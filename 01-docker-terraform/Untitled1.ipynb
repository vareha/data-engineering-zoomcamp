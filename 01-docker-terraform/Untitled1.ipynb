{
 "cells": [
  {
   "cell_type": "code",
   "execution_count": 1,
   "id": "4202c2d2-93b2-4f2a-8207-90488015dbff",
   "metadata": {},
   "outputs": [],
   "source": [
    "import pandas as pd"
   ]
  },
  {
   "cell_type": "code",
   "execution_count": 2,
   "id": "917217a4-672b-49c6-ada3-e8518beac162",
   "metadata": {},
   "outputs": [],
   "source": [
    "from sqlalchemy import create_engine\n"
   ]
  },
  {
   "cell_type": "code",
   "execution_count": 3,
   "id": "bb6c058b-15a0-47a6-81d3-8fc0f81ea113",
   "metadata": {},
   "outputs": [],
   "source": [
    "from time import time\n"
   ]
  },
  {
   "cell_type": "code",
   "execution_count": 4,
   "id": "655a3618-11d7-4b4d-8f62-56ff2eaf0982",
   "metadata": {},
   "outputs": [],
   "source": [
    "import os\n"
   ]
  },
  {
   "cell_type": "code",
   "execution_count": 5,
   "id": "d3b84709-d821-4da8-b385-b71500b6d746",
   "metadata": {},
   "outputs": [],
   "source": [
    "import argparse\n"
   ]
  },
  {
   "cell_type": "code",
   "execution_count": 7,
   "id": "ec5fd849-37bf-4c02-b445-4cc0f1af7347",
   "metadata": {},
   "outputs": [],
   "source": [
    "url = 'https://github.com/DataTalksClub/nyc-tlc-data/releases/download/yellow/yellow_tripdata_2021-01.csv.gz'"
   ]
  },
  {
   "cell_type": "code",
   "execution_count": 8,
   "id": "c76efc40-81bb-49c8-8d28-933b26a73303",
   "metadata": {},
   "outputs": [],
   "source": [
    "    csv_name = 'output.csv'\n"
   ]
  },
  {
   "cell_type": "code",
   "execution_count": 10,
   "id": "7c021f45-1807-4539-9650-18c96b6fffe5",
   "metadata": {},
   "outputs": [
    {
     "name": "stderr",
     "output_type": "stream",
     "text": [
      "  % Total    % Received % Xferd  Average Speed   Time    Time     Time  Current\n",
      "                                 Dload  Upload   Total   Spent    Left  Speed\n",
      "  0     0    0     0    0     0      0      0 --:--:-- --:--:-- --:--:--     0\n",
      "100 23.8M  100 23.8M    0     0  22.3M      0  0:00:01  0:00:01 --:--:-- 62.1M\n"
     ]
    }
   ],
   "source": [
    "if url.endswith('.gz'):\n",
    "    os.system(f'curl -L \"{url}\" | gunzip > {csv_name}')\n",
    "else:\n",
    "    os.system(f'curl -L \"{url}\" > {csv_name}')"
   ]
  },
  {
   "cell_type": "code",
   "execution_count": 12,
   "id": "25b4fd15-584f-44f1-809a-37d81a740df8",
   "metadata": {},
   "outputs": [
    {
     "ename": "IndentationError",
     "evalue": "unindent does not match any outer indentation level (<string>, line 3)",
     "output_type": "error",
     "traceback": [
      "\u001b[0;36m  File \u001b[0;32m<string>:3\u001b[0;36m\u001b[0m\n\u001b[0;31m    else:\u001b[0m\n\u001b[0m         ^\u001b[0m\n\u001b[0;31mIndentationError\u001b[0m\u001b[0;31m:\u001b[0m unindent does not match any outer indentation level\n"
     ]
    }
   ],
   "source": [
    "if url.endswith('.gz'):\n",
    "        os.system(f'curl -L \"{url}\" | gunzip > {csv_name}')\n",
    "    else:\n",
    "        os.system(f'curl -L \"{url}\" > {csv_name}')\n",
    "        "
   ]
  },
  {
   "cell_type": "code",
   "execution_count": null,
   "id": "8c8edddf-d39d-486d-a1bc-dfce40e801cb",
   "metadata": {},
   "outputs": [],
   "source": []
  }
 ],
 "metadata": {
  "kernelspec": {
   "display_name": "Python 3 (ipykernel)",
   "language": "python",
   "name": "python3"
  },
  "language_info": {
   "codemirror_mode": {
    "name": "ipython",
    "version": 3
   },
   "file_extension": ".py",
   "mimetype": "text/x-python",
   "name": "python",
   "nbconvert_exporter": "python",
   "pygments_lexer": "ipython3",
   "version": "3.13.1"
  }
 },
 "nbformat": 4,
 "nbformat_minor": 5
}
