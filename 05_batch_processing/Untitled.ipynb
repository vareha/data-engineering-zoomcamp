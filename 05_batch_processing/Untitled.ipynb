{
 "cells": [
  {
   "cell_type": "code",
   "execution_count": 2,
   "id": "e781d2e1-59e7-4b32-9ea3-be4dd21b4517",
   "metadata": {},
   "outputs": [],
   "source": [
    "import pyspark"
   ]
  },
  {
   "cell_type": "code",
   "execution_count": 5,
   "id": "922eda17-690d-4021-b447-c0969dce3679",
   "metadata": {},
   "outputs": [],
   "source": [
    "from pyspark.sql import SparkSession\n"
   ]
  },
  {
   "cell_type": "code",
   "execution_count": 6,
   "id": "08227d1a-903f-41df-8fd6-d99a5b13644f",
   "metadata": {},
   "outputs": [
    {
     "name": "stderr",
     "output_type": "stream",
     "text": [
      "Setting default log level to \"WARN\".\n",
      "To adjust logging level use sc.setLogLevel(newLevel). For SparkR, use setLogLevel(newLevel).\n",
      "25/03/04 21:37:18 WARN NativeCodeLoader: Unable to load native-hadoop library for your platform... using builtin-java classes where applicable\n"
     ]
    }
   ],
   "source": [
    "spark = SparkSession.builder.getOrCreate()\n",
    "\n"
   ]
  },
  {
   "cell_type": "code",
   "execution_count": 8,
   "id": "2c0cbe97-56af-49a5-89df-7ca1aed850bf",
   "metadata": {},
   "outputs": [
    {
     "name": "stderr",
     "output_type": "stream",
     "text": [
      "                                                                                "
     ]
    }
   ],
   "source": [
    "df = spark.read.parquet('yellow_tripdata_2024-10.parquet')"
   ]
  },
  {
   "cell_type": "code",
   "execution_count": 10,
   "id": "9ffe7c2a-aa62-42f8-b85b-2e26cdf95699",
   "metadata": {},
   "outputs": [
    {
     "name": "stdout",
     "output_type": "stream",
     "text": [
      "root\n",
      " |-- VendorID: integer (nullable = true)\n",
      " |-- tpep_pickup_datetime: timestamp_ntz (nullable = true)\n",
      " |-- tpep_dropoff_datetime: timestamp_ntz (nullable = true)\n",
      " |-- passenger_count: long (nullable = true)\n",
      " |-- trip_distance: double (nullable = true)\n",
      " |-- RatecodeID: long (nullable = true)\n",
      " |-- store_and_fwd_flag: string (nullable = true)\n",
      " |-- PULocationID: integer (nullable = true)\n",
      " |-- DOLocationID: integer (nullable = true)\n",
      " |-- payment_type: long (nullable = true)\n",
      " |-- fare_amount: double (nullable = true)\n",
      " |-- extra: double (nullable = true)\n",
      " |-- mta_tax: double (nullable = true)\n",
      " |-- tip_amount: double (nullable = true)\n",
      " |-- tolls_amount: double (nullable = true)\n",
      " |-- improvement_surcharge: double (nullable = true)\n",
      " |-- total_amount: double (nullable = true)\n",
      " |-- congestion_surcharge: double (nullable = true)\n",
      " |-- Airport_fee: double (nullable = true)\n",
      "\n"
     ]
    }
   ],
   "source": [
    "df.printSchema()\n"
   ]
  },
  {
   "cell_type": "code",
   "execution_count": 11,
   "id": "39f2d999-6b47-4cc7-b85a-d682cf277db1",
   "metadata": {},
   "outputs": [
    {
     "data": {
      "text/plain": [
       "DataFrame[VendorID: int, tpep_pickup_datetime: timestamp_ntz, tpep_dropoff_datetime: timestamp_ntz, passenger_count: bigint, trip_distance: double, RatecodeID: bigint, store_and_fwd_flag: string, PULocationID: int, DOLocationID: int, payment_type: bigint, fare_amount: double, extra: double, mta_tax: double, tip_amount: double, tolls_amount: double, improvement_surcharge: double, total_amount: double, congestion_surcharge: double, Airport_fee: double]"
      ]
     },
     "execution_count": 11,
     "metadata": {},
     "output_type": "execute_result"
    }
   ],
   "source": [
    "df.repartition(4)"
   ]
  },
  {
   "cell_type": "code",
   "execution_count": 12,
   "id": "5b9517a4-4723-48cf-a5ad-f56624dc5c37",
   "metadata": {},
   "outputs": [
    {
     "name": "stderr",
     "output_type": "stream",
     "text": [
      "                                                                                "
     ]
    },
    {
     "name": "stdout",
     "output_type": "stream",
     "text": [
      "+--------+--------------------+---------------------+---------------+-------------+----------+------------------+------------+------------+------------+-----------+-----+-------+----------+------------+---------------------+------------+--------------------+-----------+\n",
      "|VendorID|tpep_pickup_datetime|tpep_dropoff_datetime|passenger_count|trip_distance|RatecodeID|store_and_fwd_flag|PULocationID|DOLocationID|payment_type|fare_amount|extra|mta_tax|tip_amount|tolls_amount|improvement_surcharge|total_amount|congestion_surcharge|Airport_fee|\n",
      "+--------+--------------------+---------------------+---------------+-------------+----------+------------------+------------+------------+------------+-----------+-----+-------+----------+------------+---------------------+------------+--------------------+-----------+\n",
      "|       2| 2024-10-01 00:30:44|  2024-10-01 00:48:26|              1|          3.0|         1|                 N|         162|         246|           1|       18.4|  1.0|    0.5|       1.5|         0.0|                  1.0|        24.9|                 2.5|        0.0|\n",
      "|       1| 2024-10-01 00:12:20|  2024-10-01 00:25:25|              1|          2.2|         1|                 N|          48|         236|           1|       14.2|  3.5|    0.5|       3.8|         0.0|                  1.0|        23.0|                 2.5|        0.0|\n",
      "|       1| 2024-10-01 00:04:46|  2024-10-01 00:13:52|              1|          2.7|         1|                 N|         142|          24|           1|       13.5|  3.5|    0.5|       3.7|         0.0|                  1.0|        22.2|                 2.5|        0.0|\n",
      "|       1| 2024-10-01 00:12:10|  2024-10-01 00:23:01|              1|          3.1|         1|                 N|         233|          75|           1|       14.2|  3.5|    0.5|       2.0|         0.0|                  1.0|        21.2|                 2.5|        0.0|\n",
      "|       1| 2024-10-01 00:30:22|  2024-10-01 00:30:39|              1|          0.0|         1|                 N|         262|         262|           3|        3.0|  3.5|    0.5|       0.0|         0.0|                  1.0|         8.0|                 2.5|        0.0|\n",
      "|       2| 2024-10-01 00:31:20|  2024-10-01 00:36:00|              2|         0.97|         1|                 N|         137|         137|           1|        7.2|  1.0|    0.5|      2.44|         0.0|                  1.0|       14.64|                 2.5|        0.0|\n",
      "|       1| 2024-10-01 00:42:57|  2024-10-01 00:49:01|              1|          1.3|         1|                 N|         142|          48|           1|        7.9|  3.5|    0.5|      2.55|         0.0|                  1.0|       15.45|                 2.5|        0.0|\n",
      "|       1| 2024-10-01 00:59:55|  2024-10-01 01:02:24|              1|          0.5|         1|                 N|         230|         161|           1|        5.1|  3.5|    0.5|       2.0|         0.0|                  1.0|        12.1|                 2.5|        0.0|\n",
      "|       1| 2024-10-01 00:00:47|  2024-10-01 00:04:22|              0|          1.1|         1|                 N|         142|         237|           1|        7.2|  3.5|    0.5|       3.0|         0.0|                  1.0|        15.2|                 2.5|        0.0|\n",
      "|       1| 2024-10-01 00:17:36|  2024-10-01 00:26:22|              1|          2.2|         1|                 N|         162|         145|           1|       11.4|  3.5|    0.5|       3.3|         0.0|                  1.0|        19.7|                 2.5|        0.0|\n",
      "|       1| 2024-10-01 00:49:00|  2024-10-01 00:52:20|              1|          0.6|         1|                 N|         229|         162|           1|        5.1|  3.5|    0.5|       2.0|         0.0|                  1.0|        12.1|                 2.5|        0.0|\n",
      "|       2| 2024-10-01 00:07:26|  2024-10-01 00:13:20|              1|          0.9|         1|                 N|         162|         162|           1|        7.9|  1.0|    0.5|      3.87|         0.0|                  1.0|       16.77|                 2.5|        0.0|\n",
      "|       2| 2024-10-01 00:17:11|  2024-10-01 00:25:00|              1|         1.33|         1|                 N|         162|         230|           1|        9.3|  1.0|    0.5|       2.0|         0.0|                  1.0|        16.3|                 2.5|        0.0|\n",
      "|       2| 2024-10-01 00:00:34|  2024-10-01 00:05:13|              1|         1.79|         1|                 N|         211|         234|           1|        9.3|  1.0|    0.5|      2.86|         0.0|                  1.0|       17.16|                 2.5|        0.0|\n",
      "|       2| 2024-09-30 23:58:40|  2024-10-01 00:20:26|              1|         5.16|         1|                 N|         142|           7|           1|       24.7|  1.0|    0.5|       0.0|         0.0|                  1.0|        29.7|                 2.5|        0.0|\n",
      "|       1| 2024-10-01 00:55:29|  2024-10-01 01:42:35|              1|         11.3|        99|                 N|         161|         197|           1|       39.5|  0.0|    0.5|       0.0|        6.94|                  1.0|       47.94|                 0.0|        0.0|\n",
      "|       1| 2024-10-01 00:08:59|  2024-10-01 00:40:58|              1|         20.6|         1|                 N|         132|         243|           2|       76.5| 2.75|    0.5|       0.0|        6.94|                  1.0|       87.69|                 0.0|       1.75|\n",
      "|       2| 2024-10-01 00:18:38|  2024-10-01 00:36:47|              2|         7.42|         1|                 N|         239|         247|           4|      -33.1| -1.0|   -0.5|       0.0|         0.0|                 -1.0|       -38.1|                -2.5|        0.0|\n",
      "|       2| 2024-10-01 00:18:38|  2024-10-01 00:36:47|              2|         7.42|         1|                 N|         239|         247|           4|       33.1|  1.0|    0.5|       0.0|         0.0|                  1.0|        38.1|                 2.5|        0.0|\n",
      "|       2| 2024-10-01 00:39:33|  2024-10-01 00:53:59|              1|         4.49|         1|                 N|         247|          60|           2|       21.9|  1.0|    0.5|       0.0|         0.0|                  1.0|        24.4|                 0.0|        0.0|\n",
      "+--------+--------------------+---------------------+---------------+-------------+----------+------------------+------------+------------+------------+-----------+-----+-------+----------+------------+---------------------+------------+--------------------+-----------+\n",
      "only showing top 20 rows\n",
      "\n"
     ]
    }
   ],
   "source": [
    "df.show()"
   ]
  },
  {
   "cell_type": "code",
   "execution_count": 13,
   "id": "4677d407-ca5f-4279-80d5-eacecbff55ed",
   "metadata": {},
   "outputs": [
    {
     "name": "stderr",
     "output_type": "stream",
     "text": [
      "                                                                                "
     ]
    }
   ],
   "source": [
    "df.write.parquet('yellow/2024/10')"
   ]
  },
  {
   "cell_type": "code",
   "execution_count": 21,
   "id": "9b08b097-e833-4345-9020-5a58996dba44",
   "metadata": {},
   "outputs": [],
   "source": [
    "filtered = df.filter(df.tpep_pickup_datetime == '2024-10-15')"
   ]
  },
  {
   "cell_type": "code",
   "execution_count": 22,
   "id": "6534f855-4d75-4537-8b6a-f6c823f6a567",
   "metadata": {},
   "outputs": [
    {
     "ename": "TypeError",
     "evalue": "DataFrame.count() takes 1 positional argument but 2 were given",
     "output_type": "error",
     "traceback": [
      "\u001b[0;31m---------------------------------------------------------------------------\u001b[0m",
      "\u001b[0;31mTypeError\u001b[0m                                 Traceback (most recent call last)",
      "Cell \u001b[0;32mIn[22], line 1\u001b[0m\n\u001b[0;32m----> 1\u001b[0m \u001b[43mdf\u001b[49m\u001b[38;5;241;43m.\u001b[39;49m\u001b[43mcount\u001b[49m\u001b[43m(\u001b[49m\u001b[43mfiltered\u001b[49m\u001b[43m)\u001b[49m\n",
      "\u001b[0;31mTypeError\u001b[0m: DataFrame.count() takes 1 positional argument but 2 were given"
     ]
    }
   ],
   "source": [
    "df.count(filtered)"
   ]
  },
  {
   "cell_type": "code",
   "execution_count": 23,
   "id": "290acb55-acbc-4c02-b13b-8d9667cf9849",
   "metadata": {},
   "outputs": [
    {
     "data": {
      "text/plain": [
       "<bound method DataFrame.show of DataFrame[VendorID: int, tpep_pickup_datetime: timestamp_ntz, tpep_dropoff_datetime: timestamp_ntz, passenger_count: bigint, trip_distance: double, RatecodeID: bigint, store_and_fwd_flag: string, PULocationID: int, DOLocationID: int, payment_type: bigint, fare_amount: double, extra: double, mta_tax: double, tip_amount: double, tolls_amount: double, improvement_surcharge: double, total_amount: double, congestion_surcharge: double, Airport_fee: double]>"
      ]
     },
     "execution_count": 23,
     "metadata": {},
     "output_type": "execute_result"
    }
   ],
   "source": [
    "filtered.show"
   ]
  },
  {
   "cell_type": "code",
   "execution_count": 24,
   "id": "96517c83-1cf1-4470-ad17-9e9bac4dadc0",
   "metadata": {},
   "outputs": [
    {
     "name": "stderr",
     "output_type": "stream",
     "text": [
      "                                                                                "
     ]
    },
    {
     "data": {
      "text/plain": [
       "2"
      ]
     },
     "execution_count": 24,
     "metadata": {},
     "output_type": "execute_result"
    }
   ],
   "source": [
    "filtered.count()"
   ]
  },
  {
   "cell_type": "code",
   "execution_count": 25,
   "id": "15a093dc-6ad3-4ac6-a327-6e1ea2bcf219",
   "metadata": {},
   "outputs": [
    {
     "data": {
      "text/plain": [
       "3833771"
      ]
     },
     "execution_count": 25,
     "metadata": {},
     "output_type": "execute_result"
    }
   ],
   "source": [
    "df.count()"
   ]
  },
  {
   "cell_type": "code",
   "execution_count": 26,
   "id": "be9a8201-f596-4dd3-8ad0-2c8e7e117359",
   "metadata": {},
   "outputs": [],
   "source": [
    "filtered = df.filter(df.tpep_pickup_datetime == '2024-10-15')"
   ]
  },
  {
   "cell_type": "code",
   "execution_count": 27,
   "id": "5baa8f87-9ff7-4350-8959-fb9cb241e3d8",
   "metadata": {},
   "outputs": [
    {
     "data": {
      "text/plain": [
       "2"
      ]
     },
     "execution_count": 27,
     "metadata": {},
     "output_type": "execute_result"
    }
   ],
   "source": [
    "filtered.count()"
   ]
  },
  {
   "cell_type": "code",
   "execution_count": 38,
   "id": "53971717-69e2-4ab6-96a0-18a1ea39f6c2",
   "metadata": {},
   "outputs": [],
   "source": [
    "dates = (\"2024-10-15 00:00:00\",  \"2024-10-15 23:59:59\")\n"
   ]
  },
  {
   "cell_type": "code",
   "execution_count": 42,
   "id": "3caa4009-6249-44a2-a7ec-eb9f446a7e82",
   "metadata": {},
   "outputs": [],
   "source": [
    "filtered = df.filter(df.tpep_pickup_datetime.between(*dates))"
   ]
  },
  {
   "cell_type": "code",
   "execution_count": 43,
   "id": "27842d46-979a-4fa6-90ce-aa4d7a114f29",
   "metadata": {},
   "outputs": [
    {
     "data": {
      "text/plain": [
       "128893"
      ]
     },
     "execution_count": 43,
     "metadata": {},
     "output_type": "execute_result"
    }
   ],
   "source": [
    "filtered.count()"
   ]
  },
  {
   "cell_type": "code",
   "execution_count": 44,
   "id": "df42d5d3-f02e-4737-b305-ceb53bb428a2",
   "metadata": {},
   "outputs": [
    {
     "name": "stdout",
     "output_type": "stream",
     "text": [
      "+--------+--------------------+---------------------+---------------+-------------+----------+------------------+------------+------------+------------+-----------+-----+-------+----------+------------+---------------------+------------+--------------------+-----------+\n",
      "|VendorID|tpep_pickup_datetime|tpep_dropoff_datetime|passenger_count|trip_distance|RatecodeID|store_and_fwd_flag|PULocationID|DOLocationID|payment_type|fare_amount|extra|mta_tax|tip_amount|tolls_amount|improvement_surcharge|total_amount|congestion_surcharge|Airport_fee|\n",
      "+--------+--------------------+---------------------+---------------+-------------+----------+------------------+------------+------------+------------+-----------+-----+-------+----------+------------+---------------------+------------+--------------------+-----------+\n",
      "|       2| 2024-10-15 23:59:59|  2024-10-16 00:19:00|              1|         7.99|         1|                 N|         163|          13|           2|       33.8|  1.0|    0.5|       0.0|         0.0|                  1.0|        38.8|                 2.5|        0.0|\n",
      "|       2| 2024-10-15 23:59:59|  2024-10-16 00:19:00|              1|         7.99|         1|                 N|         163|          13|           2|      -33.8| -1.0|   -0.5|       0.0|         0.0|                 -1.0|       -38.8|                -2.5|        0.0|\n",
      "|       2| 2024-10-15 23:59:58|  2024-10-16 00:05:12|           NULL|         0.99|      NULL|              NULL|          79|         144|           0|        6.0|  0.0|    0.5|       0.0|         0.0|                  1.0|        10.0|                NULL|       NULL|\n",
      "|       2| 2024-10-15 23:59:58|  2024-10-16 00:06:18|              2|         1.01|         1|                 N|         162|         163|           2|        7.9|  1.0|    0.5|       0.0|         0.0|                  1.0|        12.9|                 2.5|        0.0|\n",
      "|       2| 2024-10-15 23:59:58|  2024-10-16 00:05:12|           NULL|         0.99|      NULL|              NULL|          79|         144|           0|      10.37|  0.0|    0.5|       0.0|         0.0|                  1.0|       14.37|                NULL|       NULL|\n",
      "|       2| 2024-10-15 23:59:58|  2024-10-16 00:22:22|              1|         2.78|         1|                 N|         161|         145|           1|       21.2|  1.0|    0.5|      6.55|         0.0|                  1.0|       32.75|                 2.5|        0.0|\n",
      "|       2| 2024-10-15 23:59:58|  2024-10-16 00:06:18|              2|         1.01|         1|                 N|         162|         163|           2|       -7.9| -1.0|   -0.5|       0.0|         0.0|                 -1.0|       -12.9|                -2.5|        0.0|\n",
      "|       2| 2024-10-15 23:59:56|  2024-10-16 00:16:40|              1|         3.64|         1|                 N|         230|         263|           1|       19.1|  1.0|    0.5|       2.0|         0.0|                  1.0|        26.1|                 2.5|        0.0|\n",
      "|       2| 2024-10-15 23:59:56|  2024-10-16 00:02:16|              2|         0.59|         1|                 N|         166|          24|           2|        5.1|  1.0|    0.5|       0.0|         0.0|                  1.0|         7.6|                 0.0|        0.0|\n",
      "|       2| 2024-10-15 23:59:56|  2024-10-16 00:16:24|              1|         6.66|         1|                 N|         186|          74|           4|       29.6|  1.0|    0.5|       0.0|         0.0|                  1.0|        34.6|                 2.5|        0.0|\n",
      "|       2| 2024-10-15 23:59:56|  2024-10-16 00:28:50|              1|         4.23|         1|                 N|         230|           7|           1|       26.1|  1.0|    0.5|       0.0|         0.0|                  1.0|        31.1|                 2.5|        0.0|\n",
      "|       2| 2024-10-15 23:59:56|  2024-10-16 00:16:24|              1|         6.66|         1|                 N|         186|         168|           4|      -29.6| -1.0|   -0.5|       0.0|         0.0|                 -1.0|       -34.6|                -2.5|        0.0|\n",
      "|       2| 2024-10-15 23:59:56|  2024-10-16 00:07:23|              1|         0.68|         1|                 N|          48|         164|           2|        8.6|  1.0|    0.5|       0.0|         0.0|                  1.0|        13.6|                 2.5|        0.0|\n",
      "|       2| 2024-10-15 23:59:55|  2024-10-16 00:43:48|           NULL|         16.0|      NULL|              NULL|         137|         132|           0|      59.47|  0.0|    0.5|      7.04|        6.94|                  1.0|       77.45|                NULL|       NULL|\n",
      "|       2| 2024-10-15 23:59:54|  2024-10-16 00:07:46|              1|         1.82|         1|                 N|         163|         107|           1|       10.7|  1.0|    0.5|      1.25|         0.0|                  1.0|       16.95|                 2.5|        0.0|\n",
      "|       2| 2024-10-15 23:59:54|  2024-10-16 00:06:56|              1|         1.29|         1|                 N|          97|         181|           1|        9.3|  1.0|    0.5|       1.0|         0.0|                  1.0|        12.8|                 0.0|        0.0|\n",
      "|       1| 2024-10-15 23:59:53|  2024-10-16 00:24:31|              1|          4.0|         1|                 N|         162|         226|           1|       25.4|  3.5|    0.5|       0.0|         0.0|                  1.0|        30.4|                 2.5|        0.0|\n",
      "|       1| 2024-10-15 23:59:50|  2024-10-16 00:06:27|           NULL|          1.2|      NULL|              NULL|         162|         141|           0|       8.24|  0.0|    0.5|       0.0|         0.0|                  1.0|       12.24|                NULL|       NULL|\n",
      "|       2| 2024-10-15 23:59:47|  2024-10-16 00:02:09|              1|         0.53|         1|                 N|          68|          50|           1|        5.1|  1.0|    0.5|      0.91|         0.0|                  1.0|       11.01|                 2.5|        0.0|\n",
      "|       2| 2024-10-15 23:59:47|  2024-10-16 00:06:13|              1|          1.4|         1|                 N|         163|          48|           1|        8.6|  1.0|    0.5|      2.04|         0.0|                  1.0|       15.64|                 2.5|        0.0|\n",
      "+--------+--------------------+---------------------+---------------+-------------+----------+------------------+------------+------------+------------+-----------+-----+-------+----------+------------+---------------------+------------+--------------------+-----------+\n",
      "only showing top 20 rows\n",
      "\n"
     ]
    }
   ],
   "source": [
    "filtered.orderBy(filtered.tpep_pickup_datetime, ascending=False).show()"
   ]
  },
  {
   "cell_type": "code",
   "execution_count": 45,
   "id": "31983eae-d8d6-499c-9580-733f2e51a53a",
   "metadata": {},
   "outputs": [],
   "source": [
    "from pyspark.sql.functions import unix_timestamp, col"
   ]
  },
  {
   "cell_type": "code",
   "execution_count": 51,
   "id": "9f8b4615-6ccd-4d93-a872-98fdb996b85b",
   "metadata": {},
   "outputs": [],
   "source": [
    "df2 = df.withColumn(\"trip_duration_hours\", \n",
    "                   (unix_timestamp(col(\"tpep_dropoff_datetime\")) - unix_timestamp(col(\"tpep_pickup_datetime\"))) / 3600)"
   ]
  },
  {
   "cell_type": "code",
   "execution_count": 54,
   "id": "7d38594a-b99e-49ed-a7ef-e59a433be82f",
   "metadata": {},
   "outputs": [],
   "source": [
    "longest_trip = df2.orderBy(col(\"trip_duration_hours\").desc()).limit(1)\n"
   ]
  },
  {
   "cell_type": "code",
   "execution_count": 55,
   "id": "27de8dfc-b944-435c-9cf8-7f51d9f5c2f9",
   "metadata": {},
   "outputs": [
    {
     "name": "stderr",
     "output_type": "stream",
     "text": [
      "                                                                                "
     ]
    },
    {
     "name": "stdout",
     "output_type": "stream",
     "text": [
      "+--------+--------------------+---------------------+---------------+-------------+----------+------------------+------------+------------+------------+-----------+-----+-------+----------+------------+---------------------+------------+--------------------+-----------+-------------------+\n",
      "|VendorID|tpep_pickup_datetime|tpep_dropoff_datetime|passenger_count|trip_distance|RatecodeID|store_and_fwd_flag|PULocationID|DOLocationID|payment_type|fare_amount|extra|mta_tax|tip_amount|tolls_amount|improvement_surcharge|total_amount|congestion_surcharge|Airport_fee|trip_duration_hours|\n",
      "+--------+--------------------+---------------------+---------------+-------------+----------+------------------+------------+------------+------------+-----------+-----+-------+----------+------------+---------------------+------------+--------------------+-----------+-------------------+\n",
      "|       2| 2024-10-16 13:03:49|  2024-10-23 07:40:53|              1|        32.37|         3|                 N|          48|         265|           2|      152.5|  0.0|    0.0|       0.0|       17.38|                  1.0|      170.88|                 0.0|        0.0| 162.61777777777777|\n",
      "+--------+--------------------+---------------------+---------------+-------------+----------+------------------+------------+------------+------------+-----------+-----+-------+----------+------------+---------------------+------------+--------------------+-----------+-------------------+\n",
      "\n"
     ]
    }
   ],
   "source": [
    "longest_trip.show()"
   ]
  },
  {
   "cell_type": "code",
   "execution_count": 56,
   "id": "359d4a2c-6b0d-4bfa-93af-c07bec907f9c",
   "metadata": {},
   "outputs": [],
   "source": [
    "from pyspark.sql.functions import col, count\n"
   ]
  },
  {
   "cell_type": "code",
   "execution_count": 57,
   "id": "bf9aab0b-fa9d-4feb-b9d7-bd55efe52ea5",
   "metadata": {},
   "outputs": [],
   "source": [
    "pickup_counts = df.groupBy(\"PULocationID\").agg(count(\"*\").alias(\"pickup_count\"))\n"
   ]
  },
  {
   "cell_type": "code",
   "execution_count": 58,
   "id": "7c392669-fdbf-488f-b51e-60be951dff2f",
   "metadata": {},
   "outputs": [],
   "source": [
    "least_frequent_pickup = pickup_counts.orderBy(col(\"pickup_count\").asc()).limit(1)\n"
   ]
  },
  {
   "cell_type": "code",
   "execution_count": 59,
   "id": "1235403b-e611-4b4c-8979-3e129ac44b1e",
   "metadata": {},
   "outputs": [
    {
     "name": "stderr",
     "output_type": "stream",
     "text": [
      "[Stage 32:========================================>               (10 + 4) / 14]"
     ]
    },
    {
     "name": "stdout",
     "output_type": "stream",
     "text": [
      "+------------+------------+\n",
      "|PULocationID|pickup_count|\n",
      "+------------+------------+\n",
      "|         105|           1|\n",
      "+------------+------------+\n",
      "\n"
     ]
    },
    {
     "name": "stderr",
     "output_type": "stream",
     "text": [
      "                                                                                "
     ]
    }
   ],
   "source": [
    "least_frequent_pickup.show()"
   ]
  },
  {
   "cell_type": "code",
   "execution_count": 60,
   "id": "95e7465a-149d-4baa-bdb7-40f6ec019749",
   "metadata": {},
   "outputs": [
    {
     "name": "stderr",
     "output_type": "stream",
     "text": [
      "                                                                                "
     ]
    }
   ],
   "source": [
    "taxi_zones = spark.read.csv(\"taxi_zone_lookup.csv\", header=True, inferSchema=True)"
   ]
  },
  {
   "cell_type": "code",
   "execution_count": 61,
   "id": "01bf5d32-02af-48f9-8a2a-168f0bb73784",
   "metadata": {},
   "outputs": [],
   "source": [
    "result = least_frequent_pickup.join(taxi_zones, least_frequent_pickup.PULocationID == taxi_zones.LocationID, \"left\") \\\n",
    "    .select(\"PULocationID\", \"pickup_count\", \"Borough\", \"Zone\", \"service_zone\")"
   ]
  },
  {
   "cell_type": "code",
   "execution_count": 63,
   "id": "e171a086-cb80-4299-95e9-1aa0d77fd9b7",
   "metadata": {},
   "outputs": [
    {
     "name": "stderr",
     "output_type": "stream",
     "text": [
      "                                                                                "
     ]
    },
    {
     "name": "stdout",
     "output_type": "stream",
     "text": [
      "+------------+------------+---------+--------------------+------------+\n",
      "|PULocationID|pickup_count|  Borough|                Zone|service_zone|\n",
      "+------------+------------+---------+--------------------+------------+\n",
      "|         105|           1|Manhattan|Governor's Island...| Yellow Zone|\n",
      "+------------+------------+---------+--------------------+------------+\n",
      "\n"
     ]
    }
   ],
   "source": [
    "result.show()"
   ]
  },
  {
   "cell_type": "code",
   "execution_count": null,
   "id": "bcf40f5a-86a0-4cba-ac71-468479102763",
   "metadata": {},
   "outputs": [],
   "source": []
  }
 ],
 "metadata": {
  "kernelspec": {
   "display_name": "Python 3 (ipykernel)",
   "language": "python",
   "name": "python3"
  },
  "language_info": {
   "codemirror_mode": {
    "name": "ipython",
    "version": 3
   },
   "file_extension": ".py",
   "mimetype": "text/x-python",
   "name": "python",
   "nbconvert_exporter": "python",
   "pygments_lexer": "ipython3",
   "version": "3.13.1"
  }
 },
 "nbformat": 4,
 "nbformat_minor": 5
}
